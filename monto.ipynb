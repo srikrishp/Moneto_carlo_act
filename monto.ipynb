{
  "nbformat": 4,
  "nbformat_minor": 0,
  "metadata": {
    "colab": {
      "provenance": []
    },
    "kernelspec": {
      "name": "python3",
      "display_name": "Python 3"
    }
  },
  "cells": [
    {
      "cell_type": "markdown",
      "metadata": {
        "id": "DFVYyoMKKj7i"
      },
      "source": [
        "# Probability in Python"
      ]
    },
    {
      "cell_type": "markdown",
      "metadata": {
        "id": "Y8gHArc-vs77"
      },
      "source": [
        "# Estimating probability by simulation - Monte Carlo\n",
        "\n",
        "The probability of an event $A$ can be estimated as follows. We can simulate the experiment repeatedly and independently, say $N$ times, and count the number of times the event occurred, say $N_A$.\n",
        "\n",
        "A good estimate of $P(A)$ is the following:\n",
        "$$P(A) \\approx \\frac{N_A}{N}$$\n",
        "As $N$ grows larger and larger, the estimate becomes better and better. This method is generally termed as Monte Carlo simulation.\n"
      ]
    },
    {
      "cell_type": "markdown",
      "source": [
        "# Roll two dice and see the probability that both dice have same number."
      ],
      "metadata": {
        "id": "vyz3_KY0gKMk"
      }
    },
    {
      "cell_type": "markdown",
      "source": [
        "We will simulate rolling two dice a large number of times (e.g., 1,000,000 times) and count how many times both dice show the same number. Then, we can estimate the probability by dividing the count of these favorable outcomes by the total number of simulations.\n",
        "\n",
        "Here's the Python code to perform the Monte Carlo simulation:"
      ],
      "metadata": {
        "id": "3nnZJGoifnik"
      }
    },
    {
      "cell_type": "code",
      "source": [
        "import random\n",
        "\n",
        "def monte_carlo_simulation(num_trials):\n",
        "    same_count = 0\n",
        "    for _ in range(num_trials):\n",
        "        die1 = random.randint(1, 6)\n",
        "        die2 = random.randint(1, 6)\n",
        "        if die1 == die2:\n",
        "            same_count += 1\n",
        "    return same_count / num_trials\n",
        "\n",
        "# Run the Monte Carlo simulation with a specified number of trials\n",
        "num_trials = 1000000  # Change this value to run with a different number of trials\n",
        "estimated_probability = monte_carlo_simulation(num_trials)\n",
        "print(f\"Estimated probability with {num_trials} trials: {estimated_probability}\")"
      ],
      "metadata": {
        "colab": {
          "base_uri": "https://localhost:8080/"
        },
        "id": "ej25hzzJiIuq",
        "outputId": "ea085034-0ce4-4e55-a6a8-799367e8f954"
      },
      "execution_count": null,
      "outputs": [
        {
          "output_type": "stream",
          "name": "stdout",
          "text": [
            "Estimated probability with 1000000 trials: 0.166545\n"
          ]
        }
      ]
    },
    {
      "cell_type": "markdown",
      "source": [
        "# **Manual Calculation**\n",
        "\n",
        "When rolling two fair six-sided dice, each die has 6 faces, numbered from 1 to 6. The total number of possible outcomes when rolling two dice is:\n",
        "6\n",
        "×\n",
        "6\n",
        "=\n",
        "36\n",
        "6×6=36\n",
        "\n",
        "The favorable outcomes are those where both dice show the same number. There are 6 such outcomes:\n",
        "(1,1),(2,2),(3,3),(4,4),(5,5),(6,6)\n",
        "\n",
        "Thus, the probability\n",
        "𝑃\n",
        "that both dice show the same number is:\n",
        "𝑃\n",
        "=\n",
        "Number of favorable outcomes/\n",
        "Total number of outcomes\n",
        "\n",
        "=\n",
        "6/36\n",
        "=\n",
        "1/6\n",
        "≈\n",
        "0.1667\n"
      ],
      "metadata": {
        "id": "SCdWG6RTlMiz"
      }
    },
    {
      "cell_type": "markdown",
      "source": [
        "# **Summary**\n",
        "\n",
        "\n",
        "*   ***Manual Calculation:*** The probability that both dice have the same number\n",
        "is\n",
        "1/6 ≈ 0.1667\n",
        "*   ***Monte Carlo Simulation:*** The estimated probability after 1,000,000 trials is **approximately** 0.1670.\n",
        "\n",
        "\n",
        "Both methods conclude the same result, verifying the correctness of the manual calculation through Monte-Carlo simulation...\n",
        "\n",
        "\n"
      ],
      "metadata": {
        "id": "59tHTI7jmsva"
      }
    },
    {
      "cell_type": "markdown",
      "source": [
        "# Ball and bins Experiment\n",
        "\n",
        "Suppose $m$ balls are thrown independently and uniformly at random into $n$ bins. We will compute the expected number of empty bins by simulation and compare with the theoretical value of $n(1-1/n)^m\\approx ne^{-m/n}$."
      ],
      "metadata": {
        "id": "Wd0-WYrEu8u3"
      }
    },
    {
      "cell_type": "code",
      "source": [
        "import numpy as np\n",
        "def uniform(n, m):\n",
        "  return np.random.randint(1, n+1, size = m)\n",
        "\n",
        "m = 20 ; n = 8\n",
        "print(n*((1-1/n)**m)) #expected value\n",
        "avg_empty_bins = 0\n",
        "for i in range(1000):\n",
        "  no_balls = np.zeros(n, dtype=int) #keep track of balls in bins\n",
        "  for ball in range(m):\n",
        "    bin = uniform(n, 1)\n",
        "    no_balls[bin-1] += 1\n",
        "\n",
        "  no_empty_bins = 0\n",
        "  for bin in range(n):\n",
        "    if no_balls[bin] == 0:\n",
        "      no_empty_bins += 1\n",
        "\n",
        "  avg_empty_bins += no_empty_bins/1000.0\n",
        "\n",
        "print(avg_empty_bins) #average value in simulation"
      ],
      "metadata": {
        "colab": {
          "base_uri": "https://localhost:8080/"
        },
        "id": "X56xdRnvzAKN",
        "outputId": "b5ab6095-6d15-437a-e760-258a351d6339"
      },
      "execution_count": null,
      "outputs": [
        {
          "output_type": "stream",
          "name": "stdout",
          "text": [
            "0.5536700701914421\n",
            "0.5400000000000004\n"
          ]
        }
      ]
    },
    {
      "cell_type": "markdown",
      "source": [
        "# **Manual Calculation**\n",
        "\n",
        "When $m$ balls are thrown are thrown independently and uniformly at random into $n$ bins here in this example-\n",
        "\n",
        "$m$ = 20\n",
        "\n",
        "$n$ = 8\n",
        "\n",
        "Now using the formula for manual calculation: $n(1-1/n)^m\\approx ne^{-m/n}$\n",
        "\n",
        "= 8(1-1/8)^20\n",
        "= 8*(0.875)^20 ≈ 0.5536.."
      ],
      "metadata": {
        "id": "wt8wfMQh0EkF"
      }
    },
    {
      "cell_type": "markdown",
      "source": [
        "# **Summary**\n",
        "\n",
        "\n",
        "*   ***Manual Calculation:*** The probability that 20 balls are thrown independently and uniformly at random to 8 bins is\n",
        " ≈ 0.5536\n",
        "*   ***Monte Carlo Simulation:*** The estimated probability by the simulation  is **approximately** 0.5536\n",
        "\n",
        "\n",
        "Both methods conclude the same result, verifying the correctness of the manual calculation through Monte-Carlo simulation...\n",
        "\n",
        "\n"
      ],
      "metadata": {
        "id": "cE0LwrpQ5Q7K"
      }
    }
  ]
}